{
 "cells": [
  {
   "cell_type": "code",
   "execution_count": null,
   "metadata": {},
   "outputs": [],
   "source": [
    "# fill namespace with numpy and matplotlib + static notebook plots\n",
    "%pylab inline\n",
    "# fill namespace with numpy and matplotlib + and interactive plots\n",
    "#%pylab notebook \n",
    "#%pylab widget\n",
    "#%matplotlib qt\n",
    "import sk_dsp_comm.sigsys as ss\n",
    "import sk_dsp_comm.digitalcom as dc\n",
    "import sk_dsp_comm.rtlsdr_helper as sdrh\n",
    "import sk_dsp_comm.fir_design_helper as fir_d\n",
    "import sk_dsp_comm.iir_design_helper as iir_d\n",
    "import ipywidgets as widgets\n",
    "import imp # for module reloading\n",
    "import scipy.signal as signal\n",
    "from IPython.display import Audio, display\n",
    "from IPython.display import Image, SVG"
   ]
  },
  {
   "cell_type": "code",
   "execution_count": null,
   "metadata": {},
   "outputs": [],
   "source": [
    "pylab.rcParams['savefig.dpi'] = 100 # default 72\n",
    "#pylab.rcParams['figure.figsize'] = (6.0, 4.0) # default (6,4)\n",
    "#%config InlineBackend.figure_formats=['png'] # default for inline viewing\n",
    "%config InlineBackend.figure_formats=['svg'] # SVG inline viewing\n",
    "#%config InlineBackend.figure_formats=['pdf'] # render pdf figs for LaTeX\n",
    "#Image('fname.png',width='80%')"
   ]
  },
  {
   "cell_type": "markdown",
   "metadata": {},
   "source": [
    "# RTLSDR Stream Class"
   ]
  },
  {
   "cell_type": "markdown",
   "metadata": {},
   "source": [
    "Now included in the `rtlsdr_helper` is the `RTLSDR_stream` class. This class contains async methods for reading IQ data from the rtl_sdr, decimating, and playing back audio."
   ]
  },
  {
   "cell_type": "code",
   "execution_count": null,
   "metadata": {},
   "outputs": [],
   "source": [
    "sdrh.pah.available_devices()"
   ]
  },
  {
   "cell_type": "code",
   "execution_count": null,
   "metadata": {},
   "outputs": [],
   "source": [
    "sdr_stream = sdrh.RTLSDR_stream(0,rtl_buffer_size=2**15,audio_out=3)"
   ]
  },
  {
   "cell_type": "markdown",
   "metadata": {},
   "source": [
    "# Mono FM Receiver Example"
   ]
  },
  {
   "cell_type": "markdown",
   "metadata": {},
   "source": [
    "You can use pyaudio_helper to find available audio devices"
   ]
  },
  {
   "cell_type": "code",
   "execution_count": null,
   "metadata": {},
   "outputs": [],
   "source": [
    "sdrh.pah.available_devices()"
   ]
  },
  {
   "cell_type": "code",
   "execution_count": null,
   "metadata": {},
   "outputs": [],
   "source": [
    "sdr_stream = sdrh.RTLSDR_stream(0,rtl_buffer_size=2**15,audio_out=3)"
   ]
  },
  {
   "cell_type": "code",
   "execution_count": null,
   "metadata": {},
   "outputs": [],
   "source": [
    "sdr_stream.interactive_FM_Rx(88.7e6,40,3,2048,48000)"
   ]
  },
  {
   "cell_type": "code",
   "execution_count": null,
   "metadata": {},
   "outputs": [],
   "source": [
    "sdr_stream.show_logs()"
   ]
  },
  {
   "cell_type": "code",
   "execution_count": null,
   "metadata": {},
   "outputs": [],
   "source": [
    "sdr_stream.clear_logs()"
   ]
  },
  {
   "cell_type": "markdown",
   "metadata": {},
   "source": [
    "# User-Defined Callbacks"
   ]
  },
  {
   "cell_type": "markdown",
   "metadata": {},
   "source": [
    "This callback will be called after the initial decimation "
   ]
  },
  {
   "cell_type": "code",
   "execution_count": null,
   "metadata": {},
   "outputs": [],
   "source": [
    "def callback(samples,fs,user_var):\n",
    "    # Discriminator\n",
    "    x = samples\n",
    "    X=np.real(x)                # X is the real part of the received signal\n",
    "    Y=np.imag(x)                # Y is the imaginary part of the received signal\n",
    "    b=np.array([1, -1])         # filter coefficients for discrete derivative\n",
    "    a=np.array([1, 0])          # filter coefficients for discrete derivative\n",
    "    derY=signal.lfilter(b,a,Y)  # derivative of Y, \n",
    "    derX=signal.lfilter(b,a,X)  #    \"          X,\n",
    "    z_bb=(X*derY-Y*derX)/(X**2+Y**2)\n",
    "    return z_bb,user_var"
   ]
  },
  {
   "cell_type": "code",
   "execution_count": null,
   "metadata": {},
   "outputs": [],
   "source": [
    "sdr_stream.run_user_stream(callback,10,5)"
   ]
  },
  {
   "cell_type": "code",
   "execution_count": null,
   "metadata": {},
   "outputs": [],
   "source": [
    "sdr_stream.set_audio_gain_db(0)"
   ]
  },
  {
   "cell_type": "code",
   "execution_count": null,
   "metadata": {},
   "outputs": [],
   "source": [
    "sdr_stream.set_fc(103.9e6)"
   ]
  },
  {
   "cell_type": "code",
   "execution_count": null,
   "metadata": {},
   "outputs": [],
   "source": [
    "sdr_stream.stop()"
   ]
  },
  {
   "cell_type": "markdown",
   "metadata": {},
   "source": [
    "## Custom Filters"
   ]
  },
  {
   "cell_type": "markdown",
   "metadata": {},
   "source": [
    "We can set the filter taps and initial conditions in the `run_user_stream()` method."
   ]
  },
  {
   "cell_type": "code",
   "execution_count": null,
   "metadata": {},
   "outputs": [],
   "source": [
    "M1 = 10\n",
    "b = signal.firwin(32,2*200e3/float(2.4e6))\n",
    "stage1_ic = signal.lfilter_zi(b,1)\n",
    "M2 = 5\n",
    "bb = signal.firwin(32,2*12e3/float(2.4e6)*M1)\n",
    "stage2_ic = signal.lfilter_zi(bb,1)"
   ]
  },
  {
   "cell_type": "code",
   "execution_count": null,
   "metadata": {},
   "outputs": [],
   "source": [
    "sdr_stream.run_user_stream(callback,M1,M2,b=b,stage1_ic=stage1_ic,bb=bb,stage2_ic=stage2_ic)"
   ]
  },
  {
   "cell_type": "code",
   "execution_count": null,
   "metadata": {},
   "outputs": [],
   "source": [
    "sdr_stream.set_fc(88.7e6)"
   ]
  },
  {
   "cell_type": "code",
   "execution_count": null,
   "metadata": {},
   "outputs": [],
   "source": [
    "sdr_stream.stop()"
   ]
  },
  {
   "cell_type": "markdown",
   "metadata": {},
   "source": [
    "## Using the FIR Design Helper"
   ]
  },
  {
   "cell_type": "code",
   "execution_count": null,
   "metadata": {},
   "outputs": [],
   "source": [
    "import sk_dsp_comm.fir_design_helper as fir_d"
   ]
  },
  {
   "cell_type": "code",
   "execution_count": null,
   "metadata": {},
   "outputs": [],
   "source": [
    "fc = 200e3\n",
    "trans = 50000\n",
    "b = fir_d.fir_remez_lpf(fc-trans/2,fc+trans/2,1,40,2.4e6)\n",
    "M1 = 10\n",
    "M2 = 5\n",
    "fc2 = 15e3\n",
    "trans = 5000\n",
    "bb = fir_d.fir_remez_lpf(fc2-trans/2,fc2+trans/2,1,40,2.4e6/10)\n",
    "stage1_ic = signal.lfilter_zi(b,1)\n",
    "stage2_ic = signal.lfilter_zi(bb,1)"
   ]
  },
  {
   "cell_type": "code",
   "execution_count": null,
   "metadata": {},
   "outputs": [],
   "source": [
    "fir_d.freqz_resp_list([b],[1],'dB',fs=2.4e6,Npts=1024)\n",
    "grid();"
   ]
  },
  {
   "cell_type": "code",
   "execution_count": null,
   "metadata": {},
   "outputs": [],
   "source": [
    "fir_d.freqz_resp_list([bb],[1],'dB',fs=2.4e6/M1,Npts=1024)\n",
    "grid();"
   ]
  },
  {
   "cell_type": "code",
   "execution_count": null,
   "metadata": {},
   "outputs": [],
   "source": [
    "sdr_stream.run_user_stream(callback,M1,M2,b=b,stage1_ic=stage1_ic,bb=bb,stage2_ic=stage2_ic)"
   ]
  },
  {
   "cell_type": "code",
   "execution_count": null,
   "metadata": {},
   "outputs": [],
   "source": [
    "sdr_stream.set_fc(103.9e6)"
   ]
  },
  {
   "cell_type": "code",
   "execution_count": null,
   "metadata": {},
   "outputs": [],
   "source": [
    "sdr_stream.stop()"
   ]
  },
  {
   "cell_type": "code",
   "execution_count": null,
   "metadata": {},
   "outputs": [],
   "source": [
    "fc = 200e3\n",
    "taps = 16\n",
    "b = fir_d.firwin_lpf(taps,fc,2.4e6)\n",
    "M1 = 10\n",
    "M2 = 5\n",
    "fc2 = 14e3\n",
    "bb = fir_d.firwin_lpf(taps,fc2,2.4e6/M1)\n",
    "stage1_ic = signal.lfilter_zi(b,1)\n",
    "stage2_ic = signal.lfilter_zi(bb,1)"
   ]
  },
  {
   "cell_type": "code",
   "execution_count": null,
   "metadata": {},
   "outputs": [],
   "source": [
    "fir_d.freqz_resp_list([b],[1],'dB',fs=2.4e6,Npts=1024)\n",
    "grid();"
   ]
  },
  {
   "cell_type": "code",
   "execution_count": null,
   "metadata": {},
   "outputs": [],
   "source": [
    "fir_d.freqz_resp_list([bb],[1],'dB',fs=2.4e6/M1,Npts=1024)\n",
    "grid();"
   ]
  },
  {
   "cell_type": "code",
   "execution_count": null,
   "metadata": {},
   "outputs": [],
   "source": [
    "sdr_stream.run_user_stream(callback,10,5,b=b,stage1_ic=stage1_ic,bb=bb,stage2_ic=stage2_ic)"
   ]
  },
  {
   "cell_type": "code",
   "execution_count": null,
   "metadata": {},
   "outputs": [],
   "source": [
    "sdr_stream.stop()"
   ]
  },
  {
   "cell_type": "markdown",
   "metadata": {},
   "source": [
    "## Using IIR Design Helper"
   ]
  },
  {
   "cell_type": "code",
   "execution_count": null,
   "metadata": {},
   "outputs": [],
   "source": [
    "import sk_dsp_comm.iir_design_helper as iir_d"
   ]
  },
  {
   "cell_type": "code",
   "execution_count": null,
   "metadata": {},
   "outputs": [],
   "source": [
    "fc = 200e3\n",
    "trans = 50000\n",
    "b,a,sos = iir_d.IIR_lpf(fc,fc+trans,1,10,2.4e6,'butter')\n",
    "M1 = 10\n",
    "M2 = 5\n",
    "fc2 = 15e3\n",
    "trans = 5000\n",
    "bb,aa,sos2 = iir_d.IIR_lpf(fc2,fc2+trans,1,10,2.4e6/M1,'butter')\n",
    "stage1_ic = signal.lfilter_zi(b,a)\n",
    "stage2_ic = signal.lfilter_zi(bb,aa)"
   ]
  },
  {
   "cell_type": "code",
   "execution_count": null,
   "metadata": {},
   "outputs": [],
   "source": [
    "iir_d.freqz_resp_list([b],[a],fs=2.4e6,Npts=1024)\n",
    "ylim(-80,10)\n",
    "grid()"
   ]
  },
  {
   "cell_type": "code",
   "execution_count": null,
   "metadata": {},
   "outputs": [],
   "source": [
    "iir_d.freqz_resp_list([bb],[aa],fs=2.4e6/M1,Npts=1024)\n",
    "ylim(-80,10)\n",
    "grid()"
   ]
  },
  {
   "cell_type": "code",
   "execution_count": null,
   "metadata": {},
   "outputs": [],
   "source": [
    "sdr_stream.run_user_stream(callback,10,5,b,stage1_ic,a,bb,stage2_ic,aa)"
   ]
  },
  {
   "cell_type": "code",
   "execution_count": null,
   "metadata": {},
   "outputs": [],
   "source": [
    "sdr_stream.set_fc(99.9e6)"
   ]
  },
  {
   "cell_type": "code",
   "execution_count": null,
   "metadata": {},
   "outputs": [],
   "source": [
    "sdr_stream.stop()"
   ]
  },
  {
   "cell_type": "code",
   "execution_count": null,
   "metadata": {},
   "outputs": [],
   "source": [
    "fc = 200e3\n",
    "trans = 5000\n",
    "b,a,sos = iir_d.IIR_lpf(fc,fc+trans,1,10,2.4e6,'cheby1')\n",
    "M1 = 10\n",
    "M2 = 5\n",
    "fc2 = 17e3\n",
    "trans = 500\n",
    "bb,aa,sos2 = iir_d.IIR_lpf(fc2,fc2+trans,1,10,2.4e6/M1,'cheby1')\n",
    "stage1_ic = signal.lfilter_zi(b,a)\n",
    "stage2_ic = signal.lfilter_zi(bb,aa)"
   ]
  },
  {
   "cell_type": "code",
   "execution_count": null,
   "metadata": {},
   "outputs": [],
   "source": [
    "iir_d.freqz_resp_list([b],[a],fs=2.4e6,Npts=1024)\n",
    "ylim(-80,10)\n",
    "grid()"
   ]
  },
  {
   "cell_type": "code",
   "execution_count": null,
   "metadata": {},
   "outputs": [],
   "source": [
    "iir_d.freqz_resp_list([bb],[aa],fs=2.4e6/M1,Npts=1024)\n",
    "ylim(-80,10)\n",
    "grid()"
   ]
  },
  {
   "cell_type": "code",
   "execution_count": null,
   "metadata": {},
   "outputs": [],
   "source": [
    "sdr_stream.run_user_stream(callback,10,5,b,stage1_ic,a,bb,stage2_ic,aa)"
   ]
  },
  {
   "cell_type": "code",
   "execution_count": null,
   "metadata": {},
   "outputs": [],
   "source": [
    "sdr_stream.stop()"
   ]
  },
  {
   "cell_type": "markdown",
   "metadata": {},
   "source": [
    "# Plotting"
   ]
  },
  {
   "cell_type": "code",
   "execution_count": null,
   "metadata": {},
   "outputs": [],
   "source": [
    "sdr_stream.run_user_stream(callback,10,5)"
   ]
  },
  {
   "cell_type": "code",
   "execution_count": null,
   "metadata": {},
   "outputs": [],
   "source": [
    "sdr_stream.set_fc(103.9e6)"
   ]
  },
  {
   "cell_type": "code",
   "execution_count": null,
   "metadata": {},
   "outputs": [],
   "source": [
    "await sdr_stream.plot_rf(256)"
   ]
  },
  {
   "cell_type": "code",
   "execution_count": null,
   "metadata": {},
   "outputs": [],
   "source": [
    "await sdr_stream.plot_stage1()"
   ]
  },
  {
   "cell_type": "code",
   "execution_count": null,
   "metadata": {},
   "outputs": [],
   "source": [
    "await sdr_stream.plot_processed_stage1()"
   ]
  },
  {
   "cell_type": "code",
   "execution_count": null,
   "metadata": {},
   "outputs": [],
   "source": [
    "await sdr_stream.plot_stage2()"
   ]
  },
  {
   "cell_type": "code",
   "execution_count": null,
   "metadata": {},
   "outputs": [],
   "source": [
    "sdr_stream.stop()"
   ]
  },
  {
   "cell_type": "markdown",
   "metadata": {},
   "source": [
    "## Pulling frames from stream"
   ]
  },
  {
   "cell_type": "code",
   "execution_count": null,
   "metadata": {},
   "outputs": [],
   "source": [
    "sdr_stream.run_user_stream(callback,10,5)"
   ]
  },
  {
   "cell_type": "code",
   "execution_count": null,
   "metadata": {},
   "outputs": [],
   "source": [
    "rf_frame = await sdr_stream.get_rf_frame()"
   ]
  },
  {
   "cell_type": "code",
   "execution_count": null,
   "metadata": {},
   "outputs": [],
   "source": [
    "Nfft = 2**10\n",
    "print(len(rf_frame))\n",
    "Px,f = psd(rf_frame,Nfft,sdr_stream.get_sample_rate()/1e6,sdr_stream.get_center_freq()/1e6);"
   ]
  },
  {
   "cell_type": "code",
   "execution_count": null,
   "metadata": {},
   "outputs": [],
   "source": [
    "stage1_frame = await sdr_stream.get_stage1_frame()"
   ]
  },
  {
   "cell_type": "code",
   "execution_count": null,
   "metadata": {},
   "outputs": [],
   "source": [
    "print(len(stage1_frame))\n",
    "psd(stage1_frame,Nfft,2.4e6,99.9e6/10);"
   ]
  },
  {
   "cell_type": "code",
   "execution_count": null,
   "metadata": {},
   "outputs": [],
   "source": [
    "processed_stage1_frame = await sdr_stream.get_processed_stage1_frame()"
   ]
  },
  {
   "cell_type": "code",
   "execution_count": null,
   "metadata": {},
   "outputs": [],
   "source": [
    "Nfft = 2**10\n",
    "print(len(processed_stage1_frame))\n",
    "psd(processed_stage1_frame,Nfft,2.4e6/10,0);"
   ]
  },
  {
   "cell_type": "code",
   "execution_count": null,
   "metadata": {},
   "outputs": [],
   "source": [
    "stage2_frame = await sdr_stream.get_stage2_frame()"
   ]
  },
  {
   "cell_type": "code",
   "execution_count": null,
   "metadata": {},
   "outputs": [],
   "source": [
    "Nfft = 2**10\n",
    "print(len(stage2_frame))\n",
    "psd(stage2_frame,Nfft,2.4e6/50,0);"
   ]
  },
  {
   "cell_type": "code",
   "execution_count": null,
   "metadata": {},
   "outputs": [],
   "source": [
    "sdr_stream.stop()"
   ]
  },
  {
   "cell_type": "markdown",
   "metadata": {},
   "source": [
    "# Spectrum Analyzer"
   ]
  },
  {
   "cell_type": "code",
   "execution_count": null,
   "metadata": {},
   "outputs": [],
   "source": [
    "%pylab widget"
   ]
  },
  {
   "cell_type": "code",
   "execution_count": null,
   "metadata": {},
   "outputs": [],
   "source": [
    "sdr_stream.set_audio_out(3)"
   ]
  },
  {
   "cell_type": "code",
   "execution_count": null,
   "metadata": {},
   "outputs": [],
   "source": [
    "sdr_stream.run_user_stream(callback,10,5)"
   ]
  },
  {
   "cell_type": "code",
   "execution_count": null,
   "metadata": {},
   "outputs": [],
   "source": [
    "sdr_stream.run_plot_rf_stream(1024,2,w=15,h=6)"
   ]
  },
  {
   "cell_type": "code",
   "execution_count": null,
   "metadata": {},
   "outputs": [],
   "source": [
    "sdr_stream.set_fc(99.9e6)"
   ]
  },
  {
   "cell_type": "code",
   "execution_count": null,
   "metadata": {},
   "outputs": [],
   "source": [
    "sdr_stream.set_NFFT(2048)"
   ]
  },
  {
   "cell_type": "code",
   "execution_count": null,
   "metadata": {},
   "outputs": [],
   "source": [
    "sdr_stream.set_refresh_rate(4)"
   ]
  },
  {
   "cell_type": "code",
   "execution_count": null,
   "metadata": {},
   "outputs": [],
   "source": [
    "sdr_stream.toggle_invert()"
   ]
  },
  {
   "cell_type": "code",
   "execution_count": null,
   "metadata": {},
   "outputs": [],
   "source": [
    "sdr_stream.stop_rf_plot()"
   ]
  },
  {
   "cell_type": "code",
   "execution_count": null,
   "metadata": {},
   "outputs": [],
   "source": [
    "sdr_stream.run_plot_stage1_stream(1024,1,w=15,h=6)"
   ]
  },
  {
   "cell_type": "code",
   "execution_count": null,
   "metadata": {},
   "outputs": [],
   "source": [
    "sdr_stream.stop_stage1_plot()"
   ]
  },
  {
   "cell_type": "code",
   "execution_count": null,
   "metadata": {},
   "outputs": [],
   "source": [
    "sdr_stream.run_plot_processed_stage1_stream(1024,1,w=15,h=6)"
   ]
  },
  {
   "cell_type": "code",
   "execution_count": null,
   "metadata": {},
   "outputs": [],
   "source": [
    "sdr_stream.stop_processed_stage1_plot()"
   ]
  },
  {
   "cell_type": "code",
   "execution_count": null,
   "metadata": {},
   "outputs": [],
   "source": [
    "sdr_stream.run_plot_stage2_stream(1024,1,w=15,h=6)"
   ]
  },
  {
   "cell_type": "code",
   "execution_count": null,
   "metadata": {},
   "outputs": [],
   "source": [
    "sdr_stream.set_fc(99.9e6)"
   ]
  },
  {
   "cell_type": "code",
   "execution_count": null,
   "metadata": {},
   "outputs": [],
   "source": [
    "sdr_stream.set_refresh_rate(4)"
   ]
  },
  {
   "cell_type": "code",
   "execution_count": null,
   "metadata": {},
   "outputs": [],
   "source": [
    "sdr_stream.stop_stage2_plot()"
   ]
  },
  {
   "cell_type": "code",
   "execution_count": null,
   "metadata": {},
   "outputs": [],
   "source": [
    "sdr_stream.stop_all()"
   ]
  },
  {
   "cell_type": "markdown",
   "metadata": {},
   "source": [
    "# Using Widgets"
   ]
  },
  {
   "cell_type": "code",
   "execution_count": null,
   "metadata": {},
   "outputs": [],
   "source": [
    "import ipywidgets as widgets"
   ]
  },
  {
   "cell_type": "markdown",
   "metadata": {},
   "source": [
    "## Frequency Slider"
   ]
  },
  {
   "cell_type": "code",
   "execution_count": null,
   "metadata": {},
   "outputs": [],
   "source": [
    "freq_slider = widgets.FloatSlider(\n",
    "    value=103.9,\n",
    "    min=87.5,\n",
    "    max=108,\n",
    "    step=0.2,\n",
    "    description=r'$f_c\\;\\mathrm{(MHz)}$',\n",
    "    continuous_update=True,\n",
    "    orientation='horizontal',\n",
    "    readout_format='0.1f',\n",
    "    layout=widgets.Layout(\n",
    "        width='90%',\n",
    "    ) \n",
    ")\n",
    "freq_slider.style.handle_color = 'lightblue'\n",
    "\n"
   ]
  },
  {
   "cell_type": "code",
   "execution_count": null,
   "metadata": {},
   "outputs": [],
   "source": [
    "def set_freq_MHz(fc):\n",
    "    sdr_stream.set_fc(fc*1e6)"
   ]
  },
  {
   "cell_type": "code",
   "execution_count": null,
   "metadata": {},
   "outputs": [],
   "source": [
    "sdr_stream.run_user_stream(callback,10,5)"
   ]
  },
  {
   "cell_type": "code",
   "execution_count": null,
   "metadata": {},
   "outputs": [],
   "source": [
    "center_freq_widget = widgets.interactive(set_freq_MHz, fc=freq_slider)\n",
    "display(center_freq_widget)"
   ]
  },
  {
   "cell_type": "code",
   "execution_count": null,
   "metadata": {},
   "outputs": [],
   "source": [
    "sdr_stream.run_plot_rf_stream(w=15,h=6)"
   ]
  },
  {
   "cell_type": "code",
   "execution_count": null,
   "metadata": {},
   "outputs": [],
   "source": [
    "sdr_stream.stop_all()"
   ]
  },
  {
   "cell_type": "markdown",
   "metadata": {},
   "source": [
    "## Audio Gain Slider"
   ]
  },
  {
   "cell_type": "code",
   "execution_count": null,
   "metadata": {},
   "outputs": [],
   "source": [
    "audio_gain_slider = widgets.FloatSlider(\n",
    "    value=-3,\n",
    "    min=-60,\n",
    "    max=6,\n",
    "    step=0.1,\n",
    "    description=r'Gain (dB)',\n",
    "    continuous_update=True,\n",
    "    orientation='horizontal',\n",
    "    readout_format='0.1f',\n",
    "    layout=widgets.Layout(\n",
    "        width='90%',\n",
    "    ) \n",
    ")\n",
    "audio_gain_slider.style.handle_color = 'lightgreen'\n"
   ]
  },
  {
   "cell_type": "code",
   "execution_count": null,
   "metadata": {},
   "outputs": [],
   "source": [
    "def set_audio_gain_db(db_gain):\n",
    "    gain = 10**(db_gain/20)\n",
    "    sdr_stream.set_audio_gain(gain)"
   ]
  },
  {
   "cell_type": "code",
   "execution_count": null,
   "metadata": {},
   "outputs": [],
   "source": [
    "audio_gain_widget = widgets.interactive(set_audio_gain_db, db_gain=audio_gain_slider)"
   ]
  },
  {
   "cell_type": "code",
   "execution_count": null,
   "metadata": {},
   "outputs": [],
   "source": [
    "display(audio_gain_widget)\n",
    "display(center_freq_widget)"
   ]
  },
  {
   "cell_type": "code",
   "execution_count": null,
   "metadata": {},
   "outputs": [],
   "source": [
    "sdr_stream.run_user_stream(callback,10,5)"
   ]
  },
  {
   "cell_type": "code",
   "execution_count": null,
   "metadata": {},
   "outputs": [],
   "source": [
    "sdr_stream.stop()"
   ]
  },
  {
   "cell_type": "markdown",
   "metadata": {},
   "source": [
    "## On/Off Toggle Buttons"
   ]
  },
  {
   "cell_type": "code",
   "execution_count": null,
   "metadata": {},
   "outputs": [],
   "source": [
    "def radio_on_off(selection):\n",
    "    if(selection == 'On'):\n",
    "        def my_callback(samples,fs,user_val):\n",
    "            # Discriminator\n",
    "            x = samples\n",
    "            X=np.real(x)                # X is the real part of the received signal\n",
    "            Y=np.imag(x)                # Y is the imaginary part of the received signal\n",
    "            b=np.array([1, -1])         # filter coefficients for discrete derivative\n",
    "            a=np.array([1, 0])          # filter coefficients for discrete derivative\n",
    "            derY=signal.lfilter(b,a,Y)  # derivative of Y, \n",
    "            derX=signal.lfilter(b,a,X)  #    \"          X,\n",
    "            z_bb=(X*derY-Y*derX)/(X**2+Y**2)\n",
    "            return z_bb,user_val\n",
    "        if(not sdr_stream.keep_streaming):\n",
    "            sdr_stream.run_user_stream(my_callback,10,5)\n",
    "    else:\n",
    "        sdr_stream.stop()"
   ]
  },
  {
   "cell_type": "code",
   "execution_count": null,
   "metadata": {},
   "outputs": [],
   "source": [
    "on_off = widgets.ToggleButtons(\n",
    "    options=['On', 'Off'],\n",
    "    description = ' ',\n",
    "    value = 'Off'\n",
    ")\n",
    "on_off.style.button_width = \"400px\"\n",
    "on_off.style.description_width = \"1px\""
   ]
  },
  {
   "cell_type": "code",
   "execution_count": null,
   "metadata": {},
   "outputs": [],
   "source": [
    "on_off_widget = widgets.interactive(radio_on_off,selection=on_off)"
   ]
  },
  {
   "cell_type": "code",
   "execution_count": null,
   "metadata": {},
   "outputs": [],
   "source": [
    "display(on_off_widget)\n",
    "display(audio_gain_widget)\n",
    "display(center_freq_widget)"
   ]
  },
  {
   "cell_type": "markdown",
   "metadata": {},
   "source": [
    "## Adjustable Stage 1 Filter"
   ]
  },
  {
   "cell_type": "code",
   "execution_count": null,
   "metadata": {},
   "outputs": [],
   "source": [
    "stage1_fc = widgets.FloatSlider(\n",
    "    value=100,\n",
    "    min=2,\n",
    "    max=200,\n",
    "    step=0.1,\n",
    "    description=r'$f_{cS1} \\;\\mathrm{(KHz)}$',\n",
    "    continuous_update=False,\n",
    "    orientation='horizontal',\n",
    "    readout_format='0.1f',\n",
    "    layout=widgets.Layout(\n",
    "        width='90%',\n",
    "    ) \n",
    ")\n",
    "stage1_fc.style.handle_color = 'orange'"
   ]
  },
  {
   "cell_type": "code",
   "execution_count": null,
   "metadata": {},
   "outputs": [],
   "source": [
    "def stage1_fc_change(fc):\n",
    "    b = fir_d.firwin_lpf(64,2*fc*1e3,2.4e6)\n",
    "    stage1_ic = signal.lfilter_zi(b,1)\n",
    "    sdr_stream.set_stage1_coeffs(b,zi=stage1_ic)"
   ]
  },
  {
   "cell_type": "code",
   "execution_count": null,
   "metadata": {},
   "outputs": [],
   "source": [
    "stage1_fc_widget = widgets.interactive(stage1_fc_change,fc=stage1_fc)"
   ]
  },
  {
   "cell_type": "code",
   "execution_count": null,
   "metadata": {},
   "outputs": [],
   "source": [
    "display(on_off_widget)\n",
    "display(audio_gain_widget)\n",
    "display(stage1_fc_widget)\n",
    "display(center_freq_widget)"
   ]
  },
  {
   "cell_type": "code",
   "execution_count": null,
   "metadata": {},
   "outputs": [],
   "source": [
    "sdr_stream.run_plot_stage1_stream(1024,2,w=15,h=6)"
   ]
  },
  {
   "cell_type": "code",
   "execution_count": null,
   "metadata": {},
   "outputs": [],
   "source": [
    "sdr_stream.stop_stage1_plot()"
   ]
  },
  {
   "cell_type": "markdown",
   "metadata": {},
   "source": [
    "## Adjustable Stage 2 Filter"
   ]
  },
  {
   "cell_type": "code",
   "execution_count": null,
   "metadata": {},
   "outputs": [],
   "source": [
    "stage2_fc = widgets.FloatSlider(\n",
    "    value=12,\n",
    "    min=2,\n",
    "    max=20,\n",
    "    step=0.1,\n",
    "    description=r'$f_{cS2} \\;\\mathrm{(KHz)}$',\n",
    "    continuous_update=False,\n",
    "    orientation='horizontal',\n",
    "    readout_format='0.1f',\n",
    "    layout=widgets.Layout(\n",
    "        width='90%',\n",
    "    ) \n",
    ")\n",
    "stage2_fc.style.handle_color = 'purple'"
   ]
  },
  {
   "cell_type": "code",
   "execution_count": null,
   "metadata": {},
   "outputs": [],
   "source": [
    "def stage2_fc_change(fc):\n",
    "    bb = fir_d.firwin_lpf(64,fc*1e3,2.4e6/10)\n",
    "    stage2_ic = signal.lfilter_zi(bb,1)\n",
    "    sdr_stream.set_stage2_coeffs(bb,zi=stage2_ic)"
   ]
  },
  {
   "cell_type": "code",
   "execution_count": null,
   "metadata": {},
   "outputs": [],
   "source": [
    "stage2_fc_widget = widgets.interactive(stage2_fc_change,fc=stage2_fc)"
   ]
  },
  {
   "cell_type": "code",
   "execution_count": null,
   "metadata": {},
   "outputs": [],
   "source": [
    "display(on_off_widget)\n",
    "display(audio_gain_widget)\n",
    "display(stage1_fc_widget)\n",
    "display(stage2_fc_widget)\n",
    "display(center_freq_widget)"
   ]
  },
  {
   "cell_type": "code",
   "execution_count": null,
   "metadata": {},
   "outputs": [],
   "source": [
    "sdr_stream.run_plot_stage2_stream(1024,2,w=15,h=6)"
   ]
  },
  {
   "cell_type": "code",
   "execution_count": null,
   "metadata": {},
   "outputs": [],
   "source": [
    "sdr_stream.stop_stage2_plot()"
   ]
  },
  {
   "cell_type": "markdown",
   "metadata": {},
   "source": [
    "# Bypassing Audio"
   ]
  },
  {
   "cell_type": "code",
   "execution_count": null,
   "metadata": {},
   "outputs": [],
   "source": [
    "import asyncio"
   ]
  },
  {
   "cell_type": "code",
   "execution_count": null,
   "metadata": {},
   "outputs": [],
   "source": [
    "sdr_stream.set_rtl_buffer_size(16)"
   ]
  },
  {
   "cell_type": "code",
   "execution_count": null,
   "metadata": {},
   "outputs": [],
   "source": [
    "def no_audio_callback(samples,fs,user_var):\n",
    "    frame_count = user_var\n",
    "    user_var = user_var+1\n",
    "    return array([frame_count]),user_var"
   ]
  },
  {
   "cell_type": "code",
   "execution_count": null,
   "metadata": {},
   "outputs": [],
   "source": [
    "global keep_collecting"
   ]
  },
  {
   "cell_type": "code",
   "execution_count": null,
   "metadata": {},
   "outputs": [],
   "source": [
    "async def handle_data_out():\n",
    "    global keep_collecting\n",
    "    keep_collecting = True\n",
    "    while keep_collecting:\n",
    "        data_out = await sdr_stream.get_data_out_async()\n",
    "        print(data_out)\n",
    "    sdr_stream.reset_data_out_queue()\n",
    "    print('Done')"
   ]
  },
  {
   "cell_type": "code",
   "execution_count": null,
   "metadata": {},
   "outputs": [],
   "source": [
    "sdr_stream.run_user_stream(no_audio_callback,1,1,audio_sink=False,user_var=1)\n",
    "task = asyncio.create_task(handle_data_out())"
   ]
  },
  {
   "cell_type": "code",
   "execution_count": null,
   "metadata": {},
   "outputs": [],
   "source": [
    "keep_collecting = False"
   ]
  },
  {
   "cell_type": "code",
   "execution_count": null,
   "metadata": {},
   "outputs": [],
   "source": [
    "sdr_stream.stop()"
   ]
  },
  {
   "cell_type": "code",
   "execution_count": null,
   "metadata": {},
   "outputs": [],
   "source": []
  }
 ],
 "metadata": {
  "kernelspec": {
   "display_name": "Python 3",
   "language": "python",
   "name": "python3"
  },
  "language_info": {
   "codemirror_mode": {
    "name": "ipython",
    "version": 3
   },
   "file_extension": ".py",
   "mimetype": "text/x-python",
   "name": "python",
   "nbconvert_exporter": "python",
   "pygments_lexer": "ipython3",
   "version": "3.7.3"
  }
 },
 "nbformat": 4,
 "nbformat_minor": 2
}
